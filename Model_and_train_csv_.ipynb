{
  "nbformat": 4,
  "nbformat_minor": 0,
  "metadata": {
    "colab": {
      "provenance": [],
      "gpuType": "T4"
    },
    "kernelspec": {
      "name": "python3",
      "display_name": "Python 3"
    },
    "accelerator": "GPU"
  },
  "cells": [
    {
      "cell_type": "code",
      "metadata": {
        "id": "_M_hIl_-C6P8",
        "colab": {
          "base_uri": "https://localhost:8080/"
        },
        "outputId": "8eb5c718-828e-4e78-b53e-ceedd580c94c"
      },
      "source": [
        "from google.colab import drive\n",
        "drive.mount('/content/drive')"
      ],
      "execution_count": null,
      "outputs": [
        {
          "output_type": "stream",
          "name": "stdout",
          "text": [
            "Drive already mounted at /content/drive; to attempt to forcibly remount, call drive.mount(\"/content/drive\", force_remount=True).\n"
          ]
        }
      ]
    },
    {
      "cell_type": "code",
      "metadata": {
        "id": "7hlPaQS4e5VI",
        "colab": {
          "base_uri": "https://localhost:8080/"
        },
        "outputId": "62ac3280-f81c-40ff-e6af-3e5e01ccf7bf"
      },
      "source": [
        "!pip3 install face_recognition"
      ],
      "execution_count": null,
      "outputs": [
        {
          "output_type": "stream",
          "name": "stdout",
          "text": [
            "Requirement already satisfied: face_recognition in /usr/local/lib/python3.10/dist-packages (1.3.0)\n",
            "Requirement already satisfied: face-recognition-models>=0.3.0 in /usr/local/lib/python3.10/dist-packages (from face_recognition) (0.3.0)\n",
            "Requirement already satisfied: Click>=6.0 in /usr/local/lib/python3.10/dist-packages (from face_recognition) (8.1.7)\n",
            "Requirement already satisfied: dlib>=19.7 in /usr/local/lib/python3.10/dist-packages (from face_recognition) (19.24.4)\n",
            "Requirement already satisfied: numpy in /usr/local/lib/python3.10/dist-packages (from face_recognition) (1.25.2)\n",
            "Requirement already satisfied: Pillow in /usr/local/lib/python3.10/dist-packages (from face_recognition) (9.4.0)\n"
          ]
        }
      ]
    },
    {
      "cell_type": "code",
      "metadata": {
        "id": "QZ22Sj8d0JoT",
        "colab": {
          "base_uri": "https://localhost:8080/"
        },
        "outputId": "53f4a476-5f4f-4b34-8862-ea3695fdbd15"
      },
      "source": [
        "\n",
        "#THis code is to check if the video is corrupted or not..\n",
        "#If the video is corrupted delete the video.\n",
        "import glob\n",
        "import torch\n",
        "import torchvision\n",
        "from torchvision import transforms\n",
        "from torch.utils.data import DataLoader\n",
        "from torch.utils.data.dataset import Dataset\n",
        "import os\n",
        "import numpy as np\n",
        "import cv2\n",
        "import matplotlib.pyplot as plt\n",
        "import face_recognition\n",
        "#Check if the file is corrupted or not\n",
        "def validate_video(vid_path,train_transforms):\n",
        "      transform = train_transforms\n",
        "      count = 20\n",
        "      video_path = vid_path\n",
        "      frames = []\n",
        "      a = int(100/count)\n",
        "      first_frame = np.random.randint(0,a)\n",
        "      temp_video = video_path.split('/')[-1]\n",
        "      for i,frame in enumerate(frame_extract(video_path)):\n",
        "        frames.append(transform(frame))\n",
        "        if(len(frames) == count):\n",
        "          break\n",
        "      frames = torch.stack(frames)\n",
        "      frames = frames[:count]\n",
        "      return frames\n",
        "#extract a from from video\n",
        "def frame_extract(path):\n",
        "  vidObj = cv2.VideoCapture(path)\n",
        "  success = 1\n",
        "  while success:\n",
        "      success, image = vidObj.read()\n",
        "      if success:\n",
        "          yield image\n",
        "\n",
        "im_size = 112\n",
        "mean = [0.485, 0.456, 0.406]\n",
        "std = [0.229, 0.224, 0.225]\n",
        "\n",
        "train_transforms = transforms.Compose([\n",
        "                                        transforms.ToPILImage(),\n",
        "                                        transforms.Resize((im_size,im_size)),\n",
        "                                        transforms.ToTensor(),\n",
        "                                        transforms.Normalize(mean,std)])\n",
        "video_fil =  glob.glob('/content/drive/MyDrive/New_data/*.mp4')\n",
        "print(\"Total no of videos :\" , len(video_fil))\n",
        "print(video_fil)\n",
        "count = 0;\n",
        "for i in video_fil:\n",
        "  try:\n",
        "    count+=1\n",
        "    validate_video(i,train_transforms)\n",
        "  except:\n",
        "    print(\"Number of video processed: \" , count ,\" Remaining : \" , (len(video_fil) - count))\n",
        "    print(\"Corrupted video is : \" , i)\n",
        "    continue\n",
        "print((len(video_fil) - count))"
      ],
      "execution_count": null,
      "outputs": [
        {
          "output_type": "stream",
          "name": "stdout",
          "text": [
            "Total no of videos : 196\n",
            "['/content/drive/MyDrive/New_data/id0_0007.mp4', '/content/drive/MyDrive/New_data/id0_0000.mp4', '/content/drive/MyDrive/New_data/id0_0003.mp4', '/content/drive/MyDrive/New_data/id0_0002.mp4', '/content/drive/MyDrive/New_data/id0_0001.mp4', '/content/drive/MyDrive/New_data/id0_0005.mp4', '/content/drive/MyDrive/New_data/id0_0008.mp4', '/content/drive/MyDrive/New_data/id0_0006.mp4', '/content/drive/MyDrive/New_data/id0_0004.mp4', '/content/drive/MyDrive/New_data/id1_0000.mp4', '/content/drive/MyDrive/New_data/id0_0009.mp4', '/content/drive/MyDrive/New_data/id1_0003.mp4', '/content/drive/MyDrive/New_data/id1_0005.mp4', '/content/drive/MyDrive/New_data/id1_0004.mp4', '/content/drive/MyDrive/New_data/id1_0002.mp4', '/content/drive/MyDrive/New_data/id1_0001.mp4', '/content/drive/MyDrive/New_data/id1_0006.mp4', '/content/drive/MyDrive/New_data/id1_0009.mp4', '/content/drive/MyDrive/New_data/id1_0007.mp4', '/content/drive/MyDrive/New_data/id1_0008.mp4', '/content/drive/MyDrive/New_data/id2_0008.mp4', '/content/drive/MyDrive/New_data/id2_0000.mp4', '/content/drive/MyDrive/New_data/id2_0007.mp4', '/content/drive/MyDrive/New_data/id2_0009.mp4', '/content/drive/MyDrive/New_data/id2_0005.mp4', '/content/drive/MyDrive/New_data/id2_0006.mp4', '/content/drive/MyDrive/New_data/id2_0001.mp4', '/content/drive/MyDrive/New_data/id2_0004.mp4', '/content/drive/MyDrive/New_data/id2_0002.mp4', '/content/drive/MyDrive/New_data/id2_0003.mp4', '/content/drive/MyDrive/New_data/id3_0004.mp4', '/content/drive/MyDrive/New_data/id3_0008.mp4', '/content/drive/MyDrive/New_data/id3_0007.mp4', '/content/drive/MyDrive/New_data/id3_0009.mp4', '/content/drive/MyDrive/New_data/id3_0002.mp4', '/content/drive/MyDrive/New_data/id3_0001.mp4', '/content/drive/MyDrive/New_data/id3_0006.mp4', '/content/drive/MyDrive/New_data/id3_0003.mp4', '/content/drive/MyDrive/New_data/id3_0005.mp4', '/content/drive/MyDrive/New_data/id4_0002.mp4', '/content/drive/MyDrive/New_data/id3_0000.mp4', '/content/drive/MyDrive/New_data/id4_0000.mp4', '/content/drive/MyDrive/New_data/id4_0001.mp4', '/content/drive/MyDrive/New_data/id4_0009.mp4', '/content/drive/MyDrive/New_data/id4_0003.mp4', '/content/drive/MyDrive/New_data/id4_0005.mp4', '/content/drive/MyDrive/New_data/id4_0004.mp4', '/content/drive/MyDrive/New_data/id4_0008.mp4', '/content/drive/MyDrive/New_data/id4_0007.mp4', '/content/drive/MyDrive/New_data/id4_0006.mp4', '/content/drive/MyDrive/New_data/id5_0005.mp4', '/content/drive/MyDrive/New_data/id5_0007.mp4', '/content/drive/MyDrive/New_data/id5_0008.mp4', '/content/drive/MyDrive/New_data/id5_0000.mp4', '/content/drive/MyDrive/New_data/id5_0004.mp4', '/content/drive/MyDrive/New_data/id5_0001.mp4', '/content/drive/MyDrive/New_data/id5_0006.mp4', '/content/drive/MyDrive/New_data/id5_0003.mp4', '/content/drive/MyDrive/New_data/id5_0002.mp4', '/content/drive/MyDrive/New_data/id5_0009.mp4', '/content/drive/MyDrive/New_data/id6_0003.mp4', '/content/drive/MyDrive/New_data/id6_0002.mp4', '/content/drive/MyDrive/New_data/id6_0000.mp4', '/content/drive/MyDrive/New_data/id6_0001.mp4', '/content/drive/MyDrive/New_data/id6_0008.mp4', '/content/drive/MyDrive/New_data/id7_0008.mp4', '/content/drive/MyDrive/New_data/id6_0009.mp4', '/content/drive/MyDrive/New_data/id7_0009.mp4', '/content/drive/MyDrive/New_data/id7_0002.mp4', '/content/drive/MyDrive/New_data/id8_0002.mp4', '/content/drive/MyDrive/New_data/id7_0005.mp4', '/content/drive/MyDrive/New_data/id6_0006.mp4', '/content/drive/MyDrive/New_data/id7_0004.mp4', '/content/drive/MyDrive/New_data/id7_0007.mp4', '/content/drive/MyDrive/New_data/id8_0001.mp4', '/content/drive/MyDrive/New_data/id7_0003.mp4', '/content/drive/MyDrive/New_data/id8_0004.mp4', '/content/drive/MyDrive/New_data/id7_0000.mp4', '/content/drive/MyDrive/New_data/id6_0005.mp4', '/content/drive/MyDrive/New_data/id7_0006.mp4', '/content/drive/MyDrive/New_data/id6_0007.mp4', '/content/drive/MyDrive/New_data/id8_0005.mp4', '/content/drive/MyDrive/New_data/id8_0000.mp4', '/content/drive/MyDrive/New_data/id8_0003.mp4', '/content/drive/MyDrive/New_data/id6_0004.mp4', '/content/drive/MyDrive/New_data/id8_0006.mp4', '/content/drive/MyDrive/New_data/id7_0001.mp4', '/content/drive/MyDrive/New_data/id8_0007.mp4', '/content/drive/MyDrive/New_data/id0_id16_0000.mp4', '/content/drive/MyDrive/New_data/id9_0003.mp4', '/content/drive/MyDrive/New_data/id9_0002.mp4', '/content/drive/MyDrive/New_data/id0_id16_0005.mp4', '/content/drive/MyDrive/New_data/id9_0001.mp4', '/content/drive/MyDrive/New_data/id0_id16_0003.mp4', '/content/drive/MyDrive/New_data/id9_0005.mp4', '/content/drive/MyDrive/New_data/id8_0008.mp4', '/content/drive/MyDrive/New_data/id9_0000.mp4', '/content/drive/MyDrive/New_data/id8_0009.mp4', '/content/drive/MyDrive/New_data/id0_id16_0008.mp4', '/content/drive/MyDrive/New_data/id0_id16_0004.mp4', '/content/drive/MyDrive/New_data/id9_0004.mp4', '/content/drive/MyDrive/New_data/id0_id16_0007.mp4', '/content/drive/MyDrive/New_data/id9_0006.mp4', '/content/drive/MyDrive/New_data/id0_id16_0006.mp4', '/content/drive/MyDrive/New_data/id9_0007.mp4', '/content/drive/MyDrive/New_data/id0_id17_0005.mp4', '/content/drive/MyDrive/New_data/id0_id1_0000.mp4', '/content/drive/MyDrive/New_data/id0_id1_0006.mp4', '/content/drive/MyDrive/New_data/id0_id1_0001.mp4', '/content/drive/MyDrive/New_data/id0_id1_0007.mp4', '/content/drive/MyDrive/New_data/id0_id20_0000.mp4', '/content/drive/MyDrive/New_data/id0_id20_0003.mp4', '/content/drive/MyDrive/New_data/id0_id1_0003.mp4', '/content/drive/MyDrive/New_data/id0_id1_0005.mp4', '/content/drive/MyDrive/New_data/id0_id16_0009.mp4', '/content/drive/MyDrive/New_data/id0_id17_0006.mp4', '/content/drive/MyDrive/New_data/id0_id17_0009.mp4', '/content/drive/MyDrive/New_data/id0_id17_0002.mp4', '/content/drive/MyDrive/New_data/id0_id1_0002.mp4', '/content/drive/MyDrive/New_data/id0_id17_0003.mp4', '/content/drive/MyDrive/New_data/id0_id17_0007.mp4', '/content/drive/MyDrive/New_data/id0_id20_0004.mp4', '/content/drive/MyDrive/New_data/id0_id20_0009.mp4', '/content/drive/MyDrive/New_data/id0_id21_0004.mp4', '/content/drive/MyDrive/New_data/id0_id21_0003.mp4', '/content/drive/MyDrive/New_data/id0_id20_0006.mp4', '/content/drive/MyDrive/New_data/id0_id26_0001.mp4', '/content/drive/MyDrive/New_data/id0_id26_0000.mp4', '/content/drive/MyDrive/New_data/id0_id21_0000.mp4', '/content/drive/MyDrive/New_data/id0_id20_0005.mp4', '/content/drive/MyDrive/New_data/id0_id23_0004.mp4', '/content/drive/MyDrive/New_data/id0_id21_0007.mp4', '/content/drive/MyDrive/New_data/id0_id20_0007.mp4', '/content/drive/MyDrive/New_data/id0_id23_0009.mp4', '/content/drive/MyDrive/New_data/id0_id21_0009.mp4', '/content/drive/MyDrive/New_data/id0_id21_0006.mp4', '/content/drive/MyDrive/New_data/id0_id23_0005.mp4', '/content/drive/MyDrive/New_data/id0_id21_0005.mp4', '/content/drive/MyDrive/New_data/id0_id23_0007.mp4', '/content/drive/MyDrive/New_data/id0_id26_0005.mp4', '/content/drive/MyDrive/New_data/id0_id23_0000.mp4', '/content/drive/MyDrive/New_data/id0_id26_0002.mp4', '/content/drive/MyDrive/New_data/id0_id28_0007.mp4', '/content/drive/MyDrive/New_data/id0_id2_0003.mp4', '/content/drive/MyDrive/New_data/id0_id28_0000.mp4', '/content/drive/MyDrive/New_data/id0_id28_0005.mp4', '/content/drive/MyDrive/New_data/id0_id2_0002.mp4', '/content/drive/MyDrive/New_data/id0_id28_0009.mp4', '/content/drive/MyDrive/New_data/id0_id26_0007.mp4', '/content/drive/MyDrive/New_data/id0_id28_0004.mp4', '/content/drive/MyDrive/New_data/id0_id28_0001.mp4', '/content/drive/MyDrive/New_data/id0_id26_0006.mp4', '/content/drive/MyDrive/New_data/id0_id26_0008.mp4', '/content/drive/MyDrive/New_data/id0_id28_0006.mp4', '/content/drive/MyDrive/New_data/id0_id28_0008.mp4', '/content/drive/MyDrive/New_data/id0_id2_0001.mp4', '/content/drive/MyDrive/New_data/id0_id3_0000.mp4', '/content/drive/MyDrive/New_data/id0_id26_0009.mp4', '/content/drive/MyDrive/New_data/id0_id3_0001.mp4', '/content/drive/MyDrive/New_data/id0_id2_0006.mp4', '/content/drive/MyDrive/New_data/id0_id4_0003.mp4', '/content/drive/MyDrive/New_data/id0_id3_0009.mp4', '/content/drive/MyDrive/New_data/id0_id2_0007.mp4', '/content/drive/MyDrive/New_data/id0_id3_0003.mp4', '/content/drive/MyDrive/New_data/id0_id4_0002.mp4', '/content/drive/MyDrive/New_data/id0_id3_0004.mp4', '/content/drive/MyDrive/New_data/id0_id3_0005.mp4', '/content/drive/MyDrive/New_data/id0_id3_0006.mp4', '/content/drive/MyDrive/New_data/id0_id4_0001.mp4', '/content/drive/MyDrive/New_data/id0_id2_0005.mp4', '/content/drive/MyDrive/New_data/id0_id3_0002.mp4', '/content/drive/MyDrive/New_data/id0_id4_0000.mp4', '/content/drive/MyDrive/New_data/id0_id2_0004.mp4', '/content/drive/MyDrive/New_data/id0_id9_0007.mp4', '/content/drive/MyDrive/New_data/id0_id9_0003.mp4', '/content/drive/MyDrive/New_data/id0_id9_0000.mp4', '/content/drive/MyDrive/New_data/id0_id6_0007.mp4', '/content/drive/MyDrive/New_data/id0_id6_0001.mp4', '/content/drive/MyDrive/New_data/id0_id9_0009.mp4', '/content/drive/MyDrive/New_data/id0_id9_0008.mp4', '/content/drive/MyDrive/New_data/id0_id4_0005.mp4', '/content/drive/MyDrive/New_data/id0_id9_0005.mp4', '/content/drive/MyDrive/New_data/id0_id9_0006.mp4', '/content/drive/MyDrive/New_data/id0_id6_0006.mp4', '/content/drive/MyDrive/New_data/id0_id6_0000.mp4', '/content/drive/MyDrive/New_data/id0_id6_0002.mp4', '/content/drive/MyDrive/New_data/id0_id4_0004.mp4', '/content/drive/MyDrive/New_data/id0_id6_0009.mp4', '/content/drive/MyDrive/New_data/id1_id0_0009.mp4', '/content/drive/MyDrive/New_data/id1_id0_0005.mp4', '/content/drive/MyDrive/New_data/id1_id0_0004.mp4', '/content/drive/MyDrive/New_data/id1_id0_0006.mp4', '/content/drive/MyDrive/New_data/id1_id0_0007.mp4', '/content/drive/MyDrive/New_data/id1_id0_0000.mp4', '/content/drive/MyDrive/New_data/id1_id0_0003.mp4', '/content/drive/MyDrive/New_data/id1_id2_0000.mp4']\n",
            "0\n"
          ]
        }
      ]
    },
    {
      "cell_type": "code",
      "metadata": {
        "id": "CEIygy8uDFXc",
        "colab": {
          "base_uri": "https://localhost:8080/"
        },
        "outputId": "b9843340-a567-488a-c416-d2701e84a36a"
      },
      "source": [
        "#to load preprocessod video to memory\n",
        "import json\n",
        "import glob\n",
        "import numpy as np\n",
        "import cv2\n",
        "import copy\n",
        "import random\n",
        "video_files =  glob.glob('/content/drive/MyDrive/New_data/*.mp4')\n",
        "random.shuffle(video_files)\n",
        "random.shuffle(video_files)\n",
        "frame_count = []\n",
        "for video_file in video_files:\n",
        "  cap = cv2.VideoCapture(video_file)\n",
        "  if(int(cap.get(cv2.CAP_PROP_FRAME_COUNT))<100):\n",
        "    video_files.remove(video_file)\n",
        "    continue\n",
        "  frame_count.append(int(cap.get(cv2.CAP_PROP_FRAME_COUNT)))\n",
        "print(\"frames are \" , frame_count)\n",
        "print(\"Total no of video: \" , len(frame_count))\n",
        "print('Average frame per video:',np.mean(frame_count))"
      ],
      "execution_count": null,
      "outputs": [
        {
          "output_type": "stream",
          "name": "stdout",
          "text": [
            "frames are  [448, 380, 348, 476, 372, 528, 532, 300, 552, 360, 328, 360, 528, 468, 404, 520, 464, 324, 408, 300, 300, 584, 456, 372, 320, 408, 420, 212, 448, 400, 400, 532, 532, 444, 532, 324, 476, 512, 412, 348, 328, 468, 456, 532, 468, 412, 436, 476, 456, 456, 456, 476, 496, 300, 528, 528, 464, 528, 564, 520, 300, 468, 476, 364, 424, 532, 528, 396, 520, 456, 476, 364, 276, 456, 300, 348, 456, 464, 380, 492, 292, 468, 324, 420, 468, 480, 528, 372, 496, 324, 448, 444, 476, 456, 408, 304, 468, 304, 324, 324, 504, 532, 348, 528, 376, 368, 324, 520, 628, 456, 408, 520, 476, 532, 380, 400, 468, 456, 476, 520, 324, 304, 456, 456, 348, 468, 364, 420, 608, 300, 520, 524, 380, 468, 528, 348, 304, 376, 436, 380, 520, 288, 520, 384, 532, 520, 456, 456, 532, 412, 532, 504, 556, 464, 464, 348, 280, 476, 476, 292, 456, 488, 324, 456, 532, 428, 476, 520, 368, 496, 464, 468, 528, 468, 324, 360, 476, 532, 568, 212, 348, 320, 516, 468, 456, 444, 456, 160, 476, 516, 456, 300, 528, 476, 268, 740]\n",
            "Total no of video:  196\n",
            "Average frame per video: 434.6938775510204\n"
          ]
        }
      ]
    },
    {
      "cell_type": "code",
      "metadata": {
        "id": "OqGXNkqhDKZU"
      },
      "source": [
        "# load the video name and labels from csv\n",
        "import torch\n",
        "import torchvision\n",
        "from torchvision import transforms\n",
        "from torch.utils.data import DataLoader\n",
        "from torch.utils.data.dataset import Dataset\n",
        "import os\n",
        "import numpy as np\n",
        "import cv2\n",
        "import matplotlib.pyplot as plt\n",
        "import face_recognition\n",
        "class video_dataset(Dataset):\n",
        "    def __init__(self,video_names,labels,sequence_length = 60,transform = None):\n",
        "        self.video_names = video_names\n",
        "        self.labels = labels\n",
        "        self.transform = transform\n",
        "        self.count = sequence_length\n",
        "    def __len__(self):\n",
        "        return len(self.video_names)\n",
        "    def __getitem__(self,idx):\n",
        "        video_path = self.video_names[idx]\n",
        "        frames = []\n",
        "        a = int(100/self.count)\n",
        "        first_frame = np.random.randint(0,a)\n",
        "        temp_video = video_path.split('/')[-1]\n",
        "        #print(temp_video)\n",
        "        label = self.labels.iloc[(labels.loc[labels[\"file\"] == temp_video].index.values[0]),1]\n",
        "        if(label == 'FAKE'):\n",
        "          label = 0\n",
        "        if(label == 'REAL'):\n",
        "          label = 1\n",
        "        for i,frame in enumerate(self.frame_extract(video_path)):\n",
        "          frames.append(self.transform(frame))\n",
        "          if(len(frames) == self.count):\n",
        "            break\n",
        "        frames = torch.stack(frames)\n",
        "        frames = frames[:self.count]\n",
        "        #print(\"length:\" , len(frames), \"label\",label)\n",
        "        return frames,label\n",
        "    def frame_extract(self,path):\n",
        "      vidObj = cv2.VideoCapture(path)\n",
        "      success = 1\n",
        "      while success:\n",
        "          success, image = vidObj.read()\n",
        "          if success:\n",
        "              yield image\n",
        "#plot the image\n",
        "def im_plot(tensor):\n",
        "    image = tensor.cpu().numpy().transpose(1,2,0)\n",
        "    b,g,r = cv2.split(image)\n",
        "    image = cv2.merge((r,g,b))\n",
        "    image = image*[0.22803, 0.22145, 0.216989] +  [0.43216, 0.394666, 0.37645]\n",
        "    image = image*255.0\n",
        "    plt.imshow(image.astype(int))\n",
        "    plt.show()"
      ],
      "execution_count": null,
      "outputs": []
    },
    {
      "cell_type": "code",
      "metadata": {
        "id": "1leMozhXa5LF"
      },
      "source": [
        "\n",
        "#count the number of fake and real videos\n",
        "def number_of_real_and_fake_videos(data_list):\n",
        "  header_list = [\"file\",\"label\"]\n",
        "  lab = pd.read_csv('/content/drive/MyDrive/Gobal_metadata.csv',names=header_list)\n",
        "  fake = 0\n",
        "  real = 0\n",
        "  for i in data_list:\n",
        "    temp_video = i.split('/')[-1]\n",
        "    label = lab.iloc[(labels.loc[labels[\"file\"] == temp_video].index.values[0]),1]\n",
        "    if(label == 'FAKE'):\n",
        "      fake+=1\n",
        "    if(label == 'REAL'):\n",
        "      real+=1\n",
        "  return real,fake"
      ],
      "execution_count": null,
      "outputs": []
    },
    {
      "cell_type": "code",
      "metadata": {
        "id": "sWMZn0YHDO2b",
        "colab": {
          "base_uri": "https://localhost:8080/",
          "height": 587
        },
        "outputId": "46f1f4b4-5bdc-4517-8ca6-ebbfcb453158"
      },
      "source": [
        "# load the labels and video in data loader\n",
        "import random\n",
        "import pandas as pd\n",
        "from sklearn.model_selection import train_test_split\n",
        "\n",
        "header_list = [\"file\",\"label\"]\n",
        "labels = pd.read_csv('/content/drive/MyDrive/Gobal_metadata.csv',names=header_list)\n",
        "#print(labels)\n",
        "train_videos = video_files[:int(0.8*len(video_files))]\n",
        "valid_videos = video_files[int(0.8*len(video_files)):]\n",
        "print(\"train : \" , len(train_videos))\n",
        "print(\"test : \" , len(valid_videos))\n",
        "# train_videos,valid_videos = train_test_split(data,test_size = 0.2)\n",
        "# print(train_videos)\n",
        "\n",
        "print(\"TRAIN: \", \"Real:\",number_of_real_and_fake_videos(train_videos)[0],\" Fake:\",number_of_real_and_fake_videos(train_videos)[1])\n",
        "print(\"TEST: \", \"Real:\",number_of_real_and_fake_videos(valid_videos)[0],\" Fake:\",number_of_real_and_fake_videos(valid_videos)[1])\n",
        "\n",
        "\n",
        "im_size = 112\n",
        "mean = [0.485, 0.456, 0.406]\n",
        "std = [0.229, 0.224, 0.225]\n",
        "\n",
        "train_transforms = transforms.Compose([\n",
        "                                        transforms.ToPILImage(),\n",
        "                                        transforms.Resize((im_size,im_size)),\n",
        "                                        transforms.ToTensor(),\n",
        "                                        transforms.Normalize(mean,std)])\n",
        "\n",
        "test_transforms = transforms.Compose([\n",
        "                                        transforms.ToPILImage(),\n",
        "                                        transforms.Resize((im_size,im_size)),\n",
        "                                        transforms.ToTensor(),\n",
        "                                        transforms.Normalize(mean,std)])\n",
        "train_data = video_dataset(train_videos,labels,sequence_length = 10,transform = train_transforms)\n",
        "#print(train_data)\n",
        "val_data = video_dataset(valid_videos,labels,sequence_length = 10,transform = train_transforms)\n",
        "train_loader = DataLoader(train_data,batch_size = 4,shuffle = True,num_workers = 4)\n",
        "valid_loader = DataLoader(val_data,batch_size = 4,shuffle = True,num_workers = 4)\n",
        "image,label = train_data[0]\n",
        "im_plot(image[0,:,:,:])"
      ],
      "execution_count": null,
      "outputs": [
        {
          "output_type": "stream",
          "name": "stdout",
          "text": [
            "train :  156\n",
            "test :  40\n",
            "TRAIN:  Real: 76  Fake: 80\n"
          ]
        },
        {
          "output_type": "stream",
          "name": "stderr",
          "text": [
            "/usr/local/lib/python3.10/dist-packages/torch/utils/data/dataloader.py:558: UserWarning: This DataLoader will create 4 worker processes in total. Our suggested max number of worker in current system is 2, which is smaller than what this DataLoader is going to create. Please be aware that excessive worker creation might get DataLoader running slow or even freeze, lower the worker number to avoid potential slowness/freeze if necessary.\n",
            "  warnings.warn(_create_warning_msg(\n",
            "WARNING:matplotlib.image:Clipping input data to the valid range for imshow with RGB data ([0..1] for floats or [0..255] for integers).\n"
          ]
        },
        {
          "output_type": "stream",
          "name": "stdout",
          "text": [
            "TEST:  Real: 22  Fake: 18\n"
          ]
        },
        {
          "output_type": "display_data",
          "data": {
            "text/plain": [
              "<Figure size 640x480 with 1 Axes>"
            ],
            "image/png": "[encoded data removed]"
          },
          "metadata": {}
        }
      ]
    },
    {
      "cell_type": "code",
      "metadata": {
        "id": "UtOXSqyBDRnD"
      },
      "source": [
        "#Model with feature visualization\n",
        "from torch import nn\n",
        "from torchvision import models\n",
        "class Model(nn.Module):\n",
        "    def __init__(self, num_classes,latent_dim= 2048, lstm_layers=1 , hidden_dim = 2048, bidirectional = False):\n",
        "        super(Model, self).__init__()\n",
        "        model = models.resnext50_32x4d(pretrained = True) #Residual Network CNN\n",
        "        self.model = nn.Sequential(*list(model.children())[:-2])\n",
        "        self.lstm = nn.LSTM(latent_dim,hidden_dim, lstm_layers,  bidirectional)\n",
        "        self.relu = nn.LeakyReLU()\n",
        "        self.dp = nn.Dropout(0.4)\n",
        "        self.linear1 = nn.Linear(2048,num_classes)\n",
        "        self.avgpool = nn.AdaptiveAvgPool2d(1)\n",
        "    def forward(self, x):\n",
        "        batch_size,seq_length, c, h, w = x.shape\n",
        "        x = x.view(batch_size * seq_length, c, h, w)\n",
        "        fmap = self.model(x)\n",
        "        x = self.avgpool(fmap)\n",
        "        x = x.view(batch_size,seq_length,2048)\n",
        "        x_lstm,_ = self.lstm(x,None)\n",
        "        return fmap,self.dp(self.linear1(torch.mean(x_lstm,dim = 1)))"
      ],
      "execution_count": null,
      "outputs": []
    },
    {
      "cell_type": "code",
      "metadata": {
        "id": "WYNhn10tDV90",
        "colab": {
          "base_uri": "https://localhost:8080/"
        },
        "outputId": "92463b2c-e62d-48c4-c8b6-0ea50eaacb66"
      },
      "source": [
        "model = Model(2).cuda()\n",
        "a,b = model(torch.from_numpy(np.empty((1,20,3,112,112))).type(torch.cuda.FloatTensor))"
      ],
      "execution_count": null,
      "outputs": [
        {
          "output_type": "stream",
          "name": "stderr",
          "text": [
            "/usr/local/lib/python3.10/dist-packages/torchvision/models/_utils.py:208: UserWarning: The parameter 'pretrained' is deprecated since 0.13 and may be removed in the future, please use 'weights' instead.\n",
            "  warnings.warn(\n",
            "/usr/local/lib/python3.10/dist-packages/torchvision/models/_utils.py:223: UserWarning: Arguments other than a weight enum or `None` for 'weights' are deprecated since 0.13 and may be removed in the future. The current behavior is equivalent to passing `weights=ResNeXt50_32X4D_Weights.IMAGENET1K_V1`. You can also use `weights=ResNeXt50_32X4D_Weights.DEFAULT` to get the most up-to-date weights.\n",
            "  warnings.warn(msg)\n"
          ]
        }
      ]
    },
    {
      "cell_type": "code",
      "metadata": {
        "id": "FKheLUWBDaNN"
      },
      "source": [
        "import torch\n",
        "from torch.autograd import Variable\n",
        "import time\n",
        "import os\n",
        "import sys\n",
        "import os\n",
        "def train_epoch(epoch, num_epochs, data_loader, model, criterion, optimizer):\n",
        "    model.train()\n",
        "    losses = AverageMeter()\n",
        "    accuracies = AverageMeter()\n",
        "    t = []\n",
        "    for i, (inputs, targets) in enumerate(data_loader):\n",
        "        if torch.cuda.is_available():\n",
        "            targets = targets.type(torch.cuda.LongTensor)\n",
        "            inputs = inputs.cuda()\n",
        "        _,outputs = model(inputs)\n",
        "        loss  = criterion(outputs,targets.type(torch.cuda.LongTensor))\n",
        "        acc = calculate_accuracy(outputs, targets.type(torch.cuda.LongTensor))\n",
        "        losses.update(loss.item(), inputs.size(0))\n",
        "        accuracies.update(acc, inputs.size(0))\n",
        "        optimizer.zero_grad()\n",
        "        loss.backward()\n",
        "        optimizer.step()\n",
        "        sys.stdout.write(\n",
        "                \"\\r[Epoch %d/%d] [Batch %d / %d] [Loss: %f, Acc: %.2f%%]\"\n",
        "                % (\n",
        "                    epoch,\n",
        "                    num_epochs,\n",
        "                    i,\n",
        "                    len(data_loader),\n",
        "                    losses.avg,\n",
        "                    accuracies.avg))\n",
        "    torch.save(model.state_dict(),'/content/drive/MyDrive/Colab Notebooks/checkpoint.pt')\n",
        "    return losses.avg,accuracies.avg\n",
        "def test(epoch,model, data_loader ,criterion):\n",
        "    print('Testing')\n",
        "    model.eval()\n",
        "    losses = AverageMeter()\n",
        "    accuracies = AverageMeter()\n",
        "    pred = []\n",
        "    true = []\n",
        "    count = 0\n",
        "    with torch.no_grad():\n",
        "        for i, (inputs, targets) in enumerate(data_loader):\n",
        "            if torch.cuda.is_available():\n",
        "                targets = targets.cuda().type(torch.cuda.FloatTensor)\n",
        "                inputs = inputs.cuda()\n",
        "            _,outputs = model(inputs)\n",
        "            loss = torch.mean(criterion(outputs, targets.type(torch.cuda.LongTensor)))\n",
        "            acc = calculate_accuracy(outputs,targets.type(torch.cuda.LongTensor))\n",
        "            _,p = torch.max(outputs,1)\n",
        "            true += (targets.type(torch.cuda.LongTensor)).detach().cpu().numpy().reshape(len(targets)).tolist()\n",
        "            pred += p.detach().cpu().numpy().reshape(len(p)).tolist()\n",
        "            losses.update(loss.item(), inputs.size(0))\n",
        "            accuracies.update(acc, inputs.size(0))\n",
        "            sys.stdout.write(\n",
        "                    \"\\r[Batch %d / %d]  [Loss: %f, Acc: %.2f%%]\"\n",
        "                    % (\n",
        "                        i,\n",
        "                        len(data_loader),\n",
        "                        losses.avg,\n",
        "                        accuracies.avg\n",
        "                        )\n",
        "                    )\n",
        "        print('\\nAccuracy {}'.format(accuracies.avg))\n",
        "    return true,pred,losses.avg,accuracies.avg\n",
        "class AverageMeter(object):\n",
        "    \"\"\"Computes and stores the average and current value\"\"\"\n",
        "    def __init__(self):\n",
        "        self.reset()\n",
        "    def reset(self):\n",
        "        self.val = 0\n",
        "        self.avg = 0\n",
        "        self.sum = 0\n",
        "        self.count = 0\n",
        "\n",
        "    def update(self, val, n=1):\n",
        "        self.val = val\n",
        "        self.sum += val * n\n",
        "        self.count += n\n",
        "        self.avg = self.sum / self.count\n",
        "def calculate_accuracy(outputs, targets):\n",
        "    batch_size = targets.size(0)\n",
        "\n",
        "    _, pred = outputs.topk(1, 1, True)\n",
        "    pred = pred.t()\n",
        "    correct = pred.eq(targets.view(1, -1))\n",
        "    n_correct_elems = correct.float().sum().item()\n",
        "    return 100* n_correct_elems / batch_size"
      ],
      "execution_count": null,
      "outputs": []
    },
    {
      "cell_type": "code",
      "metadata": {
        "id": "b8WneBZNfysN"
      },
      "source": [
        "import seaborn as sn\n",
        "#Output confusion matrix\n",
        "def print_confusion_matrix(y_true, y_pred):\n",
        "    cm = confusion_matrix(y_true, y_pred)\n",
        "    print('True positive = ', cm[0][0])\n",
        "    print('False positive = ', cm[0][1])\n",
        "    print('False negative = ', cm[1][0])\n",
        "    print('True negative = ', cm[1][1])\n",
        "    print('\\n')\n",
        "    df_cm = pd.DataFrame(cm, range(2), range(2))\n",
        "    sn.set(font_scale=1.4) # for label size\n",
        "    sn.heatmap(df_cm, annot=True, annot_kws={\"size\": 16}) # font size\n",
        "    plt.ylabel('Actual label', size = 20)\n",
        "    plt.xlabel('Predicted label', size = 20)\n",
        "    plt.xticks(np.arange(2), ['Fake', 'Real'], size = 16)\n",
        "    plt.yticks(np.arange(2), ['Fake', 'Real'], size = 16)\n",
        "    plt.ylim([2, 0])\n",
        "    plt.show()\n",
        "    calculated_acc = (cm[0][0]+cm[1][1])/(cm[0][0]+cm[0][1]+cm[1][0]+ cm[1][1])\n",
        "    print(\"Calculated Accuracy\",calculated_acc*100)"
      ],
      "execution_count": null,
      "outputs": []
    },
    {
      "cell_type": "code",
      "metadata": {
        "id": "fExJLjt2AtV9"
      },
      "source": [
        "\n",
        "def plot_loss(train_loss_avg,test_loss_avg,num_epochs):\n",
        "  loss_train = train_loss_avg\n",
        "  loss_val = test_loss_avg\n",
        "  print(num_epochs)\n",
        "  epochs = range(1,num_epochs+1)\n",
        "  plt.plot(epochs, loss_train, 'g', label='Training loss')\n",
        "  plt.plot(epochs, loss_val, 'b', label='validation loss')\n",
        "  plt.title('Training and Validation loss')\n",
        "  plt.xlabel('Epochs')\n",
        "  plt.ylabel('Loss')\n",
        "  plt.legend()\n",
        "  plt.show()\n",
        "def plot_accuracy(train_accuracy,test_accuracy,num_epochs):\n",
        "  loss_train = train_accuracy\n",
        "  loss_val = test_accuracy\n",
        "  epochs = range(1,num_epochs+1)\n",
        "  plt.plot(epochs, loss_train, 'g', label='Training accuracy')\n",
        "  plt.plot(epochs, loss_val, 'b', label='validation accuracy')\n",
        "  plt.title('Training and Validation accuracy')\n",
        "  plt.xlabel('Epochs')\n",
        "  plt.ylabel('Accuracy')\n",
        "  plt.legend()\n",
        "  plt.show()"
      ],
      "execution_count": null,
      "outputs": []
    },
    {
      "cell_type": "code",
      "metadata": {
        "id": "rUe1XrYnDdit",
        "colab": {
          "base_uri": "https://localhost:8080/",
          "height": 714
        },
        "outputId": "76c20a4f-5a3b-4c2b-f4d6-ab25c0a60bfa"
      },
      "source": [
        "from sklearn.metrics import confusion_matrix\n",
        "#learning rate\n",
        "lr = 1e-5#0.001\n",
        "#number of epochs\n",
        "num_epochs = 20\n",
        "\n",
        "optimizer = torch.optim.Adam(model.parameters(), lr= lr,weight_decay = 1e-5)\n",
        "\n",
        "#class_weights = torch.from_numpy(np.asarray([1,15])).type(torch.FloatTensor).cuda()\n",
        "#criterion = nn.CrossEntropyLoss(weight = class_weights).cuda()\n",
        "criterion = nn.CrossEntropyLoss().cuda()\n",
        "train_loss_avg =[]\n",
        "train_accuracy = []\n",
        "test_loss_avg = []\n",
        "test_accuracy = []\n",
        "for epoch in range(1,num_epochs+1):\n",
        "    l, acc = train_epoch(epoch,num_epochs,train_loader,model,criterion,optimizer)\n",
        "    train_loss_avg.append(l)\n",
        "    train_accuracy.append(acc)\n",
        "    true,pred,tl,t_acc = test(epoch,model,valid_loader,criterion)\n",
        "    test_loss_avg.append(tl)\n",
        "    test_accuracy.append(t_acc)\n",
        "plot_loss(train_loss_avg,test_loss_avg,len(train_loss_avg))\n",
        "plot_accuracy(train_accuracy,test_accuracy,len(train_accuracy))\n",
        "print(confusion_matrix(true,pred))\n",
        "print_confusion_matrix(true,pred)"
      ],
      "execution_count": null,
      "outputs": [
        {
          "output_type": "stream",
          "name": "stdout",
          "text": [
            "[Epoch 1/20] [Batch 38 / 39] [Loss: 0.708960, Acc: 45.51%]Testing\n",
            "[Batch 9 / 10]  [Loss: nan, Acc: 45.00%]\n",
            "Accuracy 45.0\n",
            "[Epoch 2/20] [Batch 38 / 39] [Loss: 0.658880, Acc: 66.67%]Testing\n",
            "[Batch 9 / 10]  [Loss: nan, Acc: 45.00%]\n",
            "Accuracy 45.0\n",
            "[Epoch 3/20] [Batch 38 / 39] [Loss: 0.629359, Acc: 65.38%]Testing\n",
            "[Batch 9 / 10]  [Loss: nan, Acc: 45.00%]\n",
            "Accuracy 45.0\n",
            "[Epoch 4/20] [Batch 38 / 39] [Loss: 0.566364, Acc: 76.92%]Testing\n",
            "[Batch 9 / 10]  [Loss: nan, Acc: 45.00%]\n",
            "Accuracy 45.0\n",
            "[Epoch 5/20] [Batch 38 / 39] [Loss: 0.474364, Acc: 82.05%]Testing\n",
            "[Batch 9 / 10]  [Loss: nan, Acc: 45.00%]\n",
            "Accuracy 45.0\n",
            "[Epoch 6/20] [Batch 38 / 39] [Loss: 0.409883, Acc: 87.18%]Testing\n",
            "[Batch 9 / 10]  [Loss: nan, Acc: 45.00%]\n",
            "Accuracy 45.0\n",
            "[Epoch 7/20] [Batch 38 / 39] [Loss: 0.389622, Acc: 86.54%]Testing\n",
            "[Batch 9 / 10]  [Loss: nan, Acc: 45.00%]\n",
            "Accuracy 45.0\n",
            "[Epoch 8/20] [Batch 33 / 39] [Loss: 0.338260, Acc: 88.97%]"
          ]
        },
        {
          "output_type": "error",
          "ename": "KeyboardInterrupt",
          "evalue": "",
          "traceback": [
            "\u001b[0;31m---------------------------------------------------------------------------\u001b[0m",
            "\u001b[0;31mKeyboardInterrupt\u001b[0m                         Traceback (most recent call last)",
            "\u001b[0;32m<ipython-input-30-38862901299f>\u001b[0m in \u001b[0;36m<cell line: 16>\u001b[0;34m()\u001b[0m\n\u001b[1;32m     15\u001b[0m \u001b[0mtest_accuracy\u001b[0m \u001b[0;34m=\u001b[0m \u001b[0;34m[\u001b[0m\u001b[0;34m]\u001b[0m\u001b[0;34m\u001b[0m\u001b[0;34m\u001b[0m\u001b[0m\n\u001b[1;32m     16\u001b[0m \u001b[0;32mfor\u001b[0m \u001b[0mepoch\u001b[0m \u001b[0;32min\u001b[0m \u001b[0mrange\u001b[0m\u001b[0;34m(\u001b[0m\u001b[0;36m1\u001b[0m\u001b[0;34m,\u001b[0m\u001b[0mnum_epochs\u001b[0m\u001b[0;34m+\u001b[0m\u001b[0;36m1\u001b[0m\u001b[0;34m)\u001b[0m\u001b[0;34m:\u001b[0m\u001b[0;34m\u001b[0m\u001b[0;34m\u001b[0m\u001b[0m\n\u001b[0;32m---> 17\u001b[0;31m     \u001b[0ml\u001b[0m\u001b[0;34m,\u001b[0m \u001b[0macc\u001b[0m \u001b[0;34m=\u001b[0m \u001b[0mtrain_epoch\u001b[0m\u001b[0;34m(\u001b[0m\u001b[0mepoch\u001b[0m\u001b[0;34m,\u001b[0m\u001b[0mnum_epochs\u001b[0m\u001b[0;34m,\u001b[0m\u001b[0mtrain_loader\u001b[0m\u001b[0;34m,\u001b[0m\u001b[0mmodel\u001b[0m\u001b[0;34m,\u001b[0m\u001b[0mcriterion\u001b[0m\u001b[0;34m,\u001b[0m\u001b[0moptimizer\u001b[0m\u001b[0;34m)\u001b[0m\u001b[0;34m\u001b[0m\u001b[0;34m\u001b[0m\u001b[0m\n\u001b[0m\u001b[1;32m     18\u001b[0m     \u001b[0mtrain_loss_avg\u001b[0m\u001b[0;34m.\u001b[0m\u001b[0mappend\u001b[0m\u001b[0;34m(\u001b[0m\u001b[0ml\u001b[0m\u001b[0;34m)\u001b[0m\u001b[0;34m\u001b[0m\u001b[0;34m\u001b[0m\u001b[0m\n\u001b[1;32m     19\u001b[0m     \u001b[0mtrain_accuracy\u001b[0m\u001b[0;34m.\u001b[0m\u001b[0mappend\u001b[0m\u001b[0;34m(\u001b[0m\u001b[0macc\u001b[0m\u001b[0;34m)\u001b[0m\u001b[0;34m\u001b[0m\u001b[0;34m\u001b[0m\u001b[0m\n",
            "\u001b[0;32m<ipython-input-27-92aec6ba09bc>\u001b[0m in \u001b[0;36mtrain_epoch\u001b[0;34m(epoch, num_epochs, data_loader, model, criterion, optimizer)\u001b[0m\n\u001b[1;32m     12\u001b[0m     \u001b[0;32mfor\u001b[0m \u001b[0mi\u001b[0m\u001b[0;34m,\u001b[0m \u001b[0;34m(\u001b[0m\u001b[0minputs\u001b[0m\u001b[0;34m,\u001b[0m \u001b[0mtargets\u001b[0m\u001b[0;34m)\u001b[0m \u001b[0;32min\u001b[0m \u001b[0menumerate\u001b[0m\u001b[0;34m(\u001b[0m\u001b[0mdata_loader\u001b[0m\u001b[0;34m)\u001b[0m\u001b[0;34m:\u001b[0m\u001b[0;34m\u001b[0m\u001b[0;34m\u001b[0m\u001b[0m\n\u001b[1;32m     13\u001b[0m         \u001b[0;32mif\u001b[0m \u001b[0mtorch\u001b[0m\u001b[0;34m.\u001b[0m\u001b[0mcuda\u001b[0m\u001b[0;34m.\u001b[0m\u001b[0mis_available\u001b[0m\u001b[0;34m(\u001b[0m\u001b[0;34m)\u001b[0m\u001b[0;34m:\u001b[0m\u001b[0;34m\u001b[0m\u001b[0;34m\u001b[0m\u001b[0m\n\u001b[0;32m---> 14\u001b[0;31m             \u001b[0mtargets\u001b[0m \u001b[0;34m=\u001b[0m \u001b[0mtargets\u001b[0m\u001b[0;34m.\u001b[0m\u001b[0mtype\u001b[0m\u001b[0;34m(\u001b[0m\u001b[0mtorch\u001b[0m\u001b[0;34m.\u001b[0m\u001b[0mcuda\u001b[0m\u001b[0;34m.\u001b[0m\u001b[0mLongTensor\u001b[0m\u001b[0;34m)\u001b[0m\u001b[0;34m\u001b[0m\u001b[0;34m\u001b[0m\u001b[0m\n\u001b[0m\u001b[1;32m     15\u001b[0m             \u001b[0minputs\u001b[0m \u001b[0;34m=\u001b[0m \u001b[0minputs\u001b[0m\u001b[0;34m.\u001b[0m\u001b[0mcuda\u001b[0m\u001b[0;34m(\u001b[0m\u001b[0;34m)\u001b[0m\u001b[0;34m\u001b[0m\u001b[0;34m\u001b[0m\u001b[0m\n\u001b[1;32m     16\u001b[0m         \u001b[0m_\u001b[0m\u001b[0;34m,\u001b[0m\u001b[0moutputs\u001b[0m \u001b[0;34m=\u001b[0m \u001b[0mmodel\u001b[0m\u001b[0;34m(\u001b[0m\u001b[0minputs\u001b[0m\u001b[0;34m)\u001b[0m\u001b[0;34m\u001b[0m\u001b[0;34m\u001b[0m\u001b[0m\n",
            "\u001b[0;31mKeyboardInterrupt\u001b[0m: "
          ]
        }
      ]
    },
    {
      "cell_type": "code",
      "source": [],
      "metadata": {
        "id": "knNCd1FEN5UR"
      },
      "execution_count": null,
      "outputs": []
    }
  ]
}